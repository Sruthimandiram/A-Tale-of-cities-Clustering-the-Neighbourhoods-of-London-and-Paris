{
 "cells": [
  {
   "cell_type": "markdown",
   "metadata": {},
   "source": [
    "# A Tale of cities - Clustering the Neighbourhoods of London and Paris"
   ]
  },
  {
   "cell_type": "markdown",
   "metadata": {},
   "source": [
    "Sruthi. S"
   ]
  },
  {
   "cell_type": "markdown",
   "metadata": {},
   "source": [
    "27th May 2021"
   ]
  },
  {
   "cell_type": "markdown",
   "metadata": {},
   "source": [
    "## 1. Introduction"
   ]
  },
  {
   "cell_type": "markdown",
   "metadata": {},
   "source": [
    "London and paris are two of the largest, the most important,most famous, most powerful cities in the world.They really are a big deal!London is both the capital and largest city of England and the entire United Kingdom.Paris, is both the capital and largest city of France.\n",
    "London and Paris are quite the popular tourist and vacation destinations for people all around the world. They are diverse and multicultural and offer a wide variety of experiences that is widely sought after. We try to group the neighbourhoods of London and Paris respectively and draw insights to what they look like now."
   ]
  },
  {
   "cell_type": "markdown",
   "metadata": {},
   "source": [
    "## 2. Business Problem"
   ]
  },
  {
   "cell_type": "markdown",
   "metadata": {},
   "source": [
    "The aim is to help tourists choose their destinations depending on the experiences that the neighbourhoods have to offer and what they would want to have. This also helps people make decisions if they are thinking about migrating to London or Paris or even if they want to relocate neighbourhoods within the city. Our findings will help stakeholders make informed decisions and address any concerns they have including the different kinds of cuisines, provision stores and what the city has to offer"
   ]
  },
  {
   "cell_type": "markdown",
   "metadata": {},
   "source": [
    "## 3. Data Description"
   ]
  },
  {
   "cell_type": "markdown",
   "metadata": {},
   "source": [
    "We require geographical location data for both London and Paris. Postal codes in each city serve as a starting point. Using Postal codes we use can find out the neighborhoods, boroughs, venues and their most popular venue categories."
   ]
  },
  {
   "cell_type": "markdown",
   "metadata": {},
   "source": [
    "### 3.1 London"
   ]
  },
  {
   "cell_type": "markdown",
   "metadata": {},
   "source": [
    "To derive our solution, We scrape our data from https://en.wikipedia.org/wiki/List_of_areas_of_London"
   ]
  },
  {
   "cell_type": "markdown",
   "metadata": {},
   "source": [
    "This wikipedia page has information about all the neighbourhoods, we limit it London."
   ]
  },
  {
   "cell_type": "markdown",
   "metadata": {},
   "source": [
    "1.borough : Name of Neighbourhood\n",
    "2.town : Name of borough\n",
    "3.post_code : Postal codes for London."
   ]
  },
  {
   "cell_type": "markdown",
   "metadata": {},
   "source": [
    "This wikipedia page lacks information about the geographical locations. To solve this problem we use ArcGIS API"
   ]
  },
  {
   "cell_type": "markdown",
   "metadata": {},
   "source": [
    "### 3.2 ArcGIS API"
   ]
  },
  {
   "cell_type": "markdown",
   "metadata": {},
   "source": [
    "ArcGIS Online enables you to connect people, locations, and data using interactive maps. Work with smart, data-driven styles and intuitive analysis tools that deliver location intelligence. Share your insights with the world or specific groups.\n",
    "\n",
    "More specifically, we use ArcGIS to get the geo locations of the neighbourhoods of London. The following columns are added to our initial dataset which prepares our data.\n",
    "\n",
    " 1.latitude : Latitude for Neighbourhood\n",
    " 2.longitude : Longitude for Neighbourhood"
   ]
  },
  {
   "cell_type": "markdown",
   "metadata": {},
   "source": [
    "### 3.3 Paris"
   ]
  },
  {
   "cell_type": "markdown",
   "metadata": {},
   "source": [
    "To derive our solution, We leverage JSON data available at https://www.data.gouv.fr/fr/datasets/r/e88c6fda-1d09-42a0-a069-606d3259114e\n",
    "\n",
    "The JSON file has data about all the neighbourhoods in France, we limit it to Paris.\n",
    "\n",
    " 1.postal_code : Postal codes for France\n",
    " 2.nom_comm : Name of Neighbourhoods in France\n",
    " 3.nom_dept : Name of the boroughs, equivalent to towns in France\n",
    " 4.geo_point_2d : Tuple containing the latitude and longitude of the Neighbourhoods."
   ]
  },
  {
   "cell_type": "markdown",
   "metadata": {},
   "source": [
    "### 3.4 Foursquare API Data"
   ]
  },
  {
   "cell_type": "markdown",
   "metadata": {},
   "source": [
    "We will need data about different venues in different neighbourhoods of that specific borough. In order to gain that information we will use \"Foursquare\" locational information. Foursquare is a location data provider with information about all manner of venues and events within an area of interest. Such information includes venue names, locations, menus and even photos. As such, the foursquare location platform will be used as the sole data source since all the stated required information can be obtained through the API.\n",
    "\n",
    "After finding the list of neighbourhoods, we then connect to the Foursquare API to gather information about venues inside each and every neighbourhood. For each neighbourhood, we have chosen the radius to be 500 meters.\n",
    "\n",
    "The data retrieved from Foursquare contained information of venues within a specified distance of the longitude and latitude of the postcodes. The information obtained per venue as follows:\n",
    "\n",
    "   *Neighbourhood : Name of the Neighbourhood\n",
    "   *Neighbourhood Latitude : Latitude of the Neighbourhood\n",
    "   *Neighbourhood Longitude : Longitude of the Neighbourhood\n",
    "   *Venue : Name of the Venue\n",
    "   *Venue Latitude : Latitude of Venue\n",
    "   *Venue Longitude : Longitude of Venue\n",
    "   *Venue Category : Category of Venue"
   ]
  },
  {
   "cell_type": "markdown",
   "metadata": {},
   "source": [
    "Based on all the information collected for both London and Paris, we have sufficient data to build our model. We cluster the neighbourhoods together based on similar venue categories. We then present our observations and findings. Using this data, our stakeholders can take the necessary decision."
   ]
  },
  {
   "cell_type": "markdown",
   "metadata": {},
   "source": [
    "### 4. Methodology"
   ]
  },
  {
   "cell_type": "markdown",
   "metadata": {},
   "source": [
    "We will be creating our model with the help of Python so we start off by importing all the required packages."
   ]
  },
  {
   "cell_type": "code",
   "execution_count": null,
   "metadata": {},
   "outputs": [],
   "source": [
    "   import pandas as pd\n",
    "   import requests\n",
    "   import numpy as np\n",
    "   import matplotlib.cm as cm\n",
    "   import matplotlib.colors as colors\n",
    "   import folium\n",
    "   from sklearn.cluster import KMeans"
   ]
  },
  {
   "cell_type": "markdown",
   "metadata": {},
   "source": [
    "Package breakdown:"
   ]
  },
  {
   "cell_type": "markdown",
   "metadata": {},
   "source": [
    "* Pandas : To collect and manipulate data in JSON and HTMl and then data analysis\n",
    "* requests : Handle http requests\n",
    "* matplotlib : Detailing the generated maps\n",
    "* folium : Generating maps of London and Paris\n",
    "* sklearn : To import Kmeans which is the machine learning model that we are using.\n",
    "\n",
    "The approach taken here is to explore each of the cities individually, plot the map to show the neighbourhoods being considered and then build our model by clustering all of the similar neighbourhoods together and finally plot the new map with the clustered neighbourhoods. We draw insights and then compare and discuss our findings."
   ]
  },
  {
   "cell_type": "markdown",
   "metadata": {},
   "source": [
    "### 4.1 Data Collection"
   ]
  },
  {
   "cell_type": "code",
   "execution_count": null,
   "metadata": {},
   "outputs": [],
   "source": [
    "In the data collection stage, we begin with collecting the required data for the cities of London and Paris. We need data that has the postal codes, neighbourhoods and boroughs specific to each of the cities.\n",
    "\n",
    "To collect data for London, we scrape the List of areas of London wikipedia page to take the 2nd table using the following code:\n",
    "\n",
    "   url_london = \"https://en.wikipedia.org/wiki/List_of_areas_of_London\"\n",
    "   wiki_london_url = requests.get(url_london)\n",
    "   wiki_london_data = pd.read_html(wiki_london_url.text)\n",
    "   wiki_london_data = wiki_london_data[1]\n",
    "   wiki_london_data"
   ]
  },
  {
   "cell_type": "markdown",
   "metadata": {},
   "source": [
    "To collect data for Paris, we download the JSON file containg all the postal codes of France from https://www.data.gouv.fr/fr/datasets/r/e88c6fda-1d09-42a0-a069-606d3259114e\n",
    "\n",
    "Using Pandas we load the table after reading the JSON file:\n",
    "\n",
    "!wget -q -O 'france-data.json' https://www.data.gouv.fr/fr/datasets/r/e88c6fda-1d09-42a0-a069-606d3259114e\n",
    "print(\"Data Downloaded!\")\n",
    "paris_raw = pd.read_json('france-data.json')\n",
    "paris_raw.head()"
   ]
  },
  {
   "cell_type": "markdown",
   "metadata": {},
   "source": [
    "### 4.2 Data Preprocessing"
   ]
  },
  {
   "cell_type": "code",
   "execution_count": null,
   "metadata": {},
   "outputs": [],
   "source": [
    "For London, We replace the spaces with underscores in the title.The borough column has numbers within square brackets that we remove using:\n",
    "\n",
    "wiki_london_data.rename(columns=lambda x: x.strip().replace(\" \", \"_\"), inplace=True)\n",
    "wiki_london_data['borough'] = wiki_london_data['borough'].map(lambda x: x.rstrip(']').rstrip('0123456789').rstrip('['))\n",
    "For Paris, we break down each of the nested fields and create the dataframe that we need:\n",
    "\n",
    "paris_field_data = pd.DataFrame()\n",
    "for f in paris_raw.fields:\n",
    "    dict_new = f\n",
    "    paris_field_data = paris_field_data.append(dict_new, ignore_index=True)\n",
    "\n",
    "paris_field_data.head()"
   ]
  },
  {
   "cell_type": "markdown",
   "metadata": {},
   "source": [
    "### 4.3 Feature Selection"
   ]
  },
  {
   "cell_type": "code",
   "execution_count": null,
   "metadata": {},
   "outputs": [],
   "source": [
    "For both of our datasets, we need only the borough, neighbourhood, postal codes and geolocations (latitude and longitude). So we end up selecting the columns that we need by:\n",
    "\n",
    "df1 = wiki_london_data.drop( [ wiki_london_data.columns[0], wiki_london_data.columns[4], wiki_london_data.columns[5] ], axis=1)\n",
    "\n",
    "df_2 = paris_field_data[['postal_code','nom_comm','nom_dept','geo_point_2d']]"
   ]
  },
  {
   "cell_type": "markdown",
   "metadata": {},
   "source": [
    "### 4.4 Feature Engineering"
   ]
  },
  {
   "cell_type": "code",
   "execution_count": null,
   "metadata": {},
   "outputs": [],
   "source": [
    "Both of our Datasets actually contain information related to all the cities in the country. We can narrow down and further process the data by selecting only the neighbourhoods pertaining to 'London' and 'Paris'\n",
    "\n",
    "df1 = df1[df1['town'].str.contains('LONDON')]\n",
    "\n",
    "df_paris = df_2[df_2['nom_dept'].str.contains('PARIS')].reset_index(drop=True)\n",
    "Looking over our London dataset, we can see that we don't have the geolocation data. We need to extrapolate the missing data for our neighbourhoods. We perform this by leveraging the ArcGIS API. With the Help of ArcGIS API we can get the latitude and longitude of our London neighbourhood data.\n",
    "\n",
    "from arcgis.geocoding import geocode\n",
    "from arcgis.gis import GIS\n",
    "gis = GIS()\n",
    "Defining London arcgis geocode function to return latitude and longitude\n",
    "\n",
    "def get_x_y_uk(address1):\n",
    "   lat_coords = 0\n",
    "   lng_coords = 0\n",
    "   g = geocode(address='{}, London, England, GBR'.format(address1))[0]\n",
    "   lng_coords = g['location']['x']\n",
    "   lat_coords = g['location']['y']\n",
    "   return str(lat_coords) +\",\"+ str(lng_coords)\n",
    "Passing postal codes of london to get the geographical co-ordinates\n",
    "\n",
    "coordinates_latlng_uk = geo_coordinates_uk.apply(lambda x: get_x_y_uk(x))\n",
    "We proceed with Merging our source data with the geographical co-ordinates to make our dataset ready for the next stage\n",
    "\n",
    "london_merged = pd.concat([df1,lat_uk.astype(float), lng_uk.astype(float)], axis=1)\n",
    "london_merged.columns= ['borough','town','post_code','latitude','longitude']\n",
    "london_merged"
   ]
  },
  {
   "cell_type": "code",
   "execution_count": null,
   "metadata": {},
   "outputs": [],
   "source": [
    "As for our Paris dataset, we don't need to get the geo coordinates using an external data source or collect it with the ArcGIS API call since we already have it stored in the geo_point_2d column as a tuple in the df_paris dataframe.\n",
    "\n",
    "We just need to extract the latitude and longitude for the column:\n",
    "\n",
    "paris_lat = paris_latlng.apply(lambda x: x.split(',')[0])\n",
    "paris_lat = paris_lat.apply(lambda x: x.lstrip('['))\n",
    "\n",
    "paris_lng = paris_latlng.apply(lambda x: x.split(',')[1])\n",
    "paris_lng = paris_lng.apply(lambda x: x.rstrip(']'))\n",
    "\n",
    "paris_geo_lat  = pd.DataFrame(paris_lat.astype(float))\n",
    "paris_geo_lat.columns=['Latitude']\n",
    "\n",
    "paris_geo_lng = pd.DataFrame(paris_lng.astype(float))\n",
    "paris_geo_lng.columns=['Longitude']\n",
    "We then create our Paris dataset with the required information:\n",
    "\n",
    "paris_combined_data = pd.concat([df_paris.drop('geo_point_2d', axis=1), paris_geo_lat, paris_geo_lng], axis=1)\n",
    "paris_combined_data"
   ]
  },
  {
   "cell_type": "code",
   "execution_count": null,
   "metadata": {},
   "outputs": [],
   "source": [
    "This is where Foursquare comes into play. With the help of Foursquare we define a function which collects information pertaining to each neighbourhood including that of the name of the neighbourhood, geo-coordinates, venue and venue categories.\n",
    "\n",
    "LIMIT=100\n",
    "\n",
    "def getNearbyVenues(names, latitudes, longitudes, radius=500):\n",
    "\n",
    "    venues_list=[]\n",
    "    for name, lat, lng in zip(names, latitudes, longitudes):\n",
    "        print(name)\n",
    "\n",
    "        # create the API request URL\n",
    "        url = 'https://api.foursquare.com/v2/venues/explore?&client_id={}&client_secret={}&v={}&ll={},{}&radius={}&limit={}'.format(\n",
    "            CLIENT_ID, \n",
    "            CLIENT_SECRET, \n",
    "            VERSION, \n",
    "            lat, \n",
    "            lng, \n",
    "            radius,\n",
    "            LIMIT\n",
    "            )\n",
    "\n",
    "        # make the GET request\n",
    "        results = requests.get(url).json()[\"response\"]['groups'][0]['items']\n",
    "\n",
    "        # return only relevant information for each nearby venue\n",
    "        venues_list.append([(\n",
    "            name, \n",
    "            lat, \n",
    "            lng, \n",
    "            v['venue']['name'], \n",
    "            v['venue']['categories'][0]['name']) for v in results])\n",
    "\n",
    "    nearby_venues = pd.DataFrame([item for venue_list in venues_list for item in venue_list])\n",
    "    nearby_venues.columns = ['Neighbourhood', \n",
    "                  'Neighbourhood Latitude', \n",
    "                  'Neighbourhood Longitude', \n",
    "                  'Venue', \n",
    "                  'Venue Category']\n",
    "\n",
    "    return(nearby_venues)\n",
    "Resulting data looks like:"
   ]
  },
  {
   "cell_type": "markdown",
   "metadata": {},
   "source": [
    "### 4.6 One Hot Encoding"
   ]
  },
  {
   "cell_type": "markdown",
   "metadata": {},
   "source": [
    "Since we are trying to find out what are the different kinds of venue categories present in each neighbourhood and then calculate the top 10 common venues to base our similarity on, we use the One Hot Encoding to work with our categorical datatype of the venue categories. This helps to convert the categorical data into numeric data.\n",
    "\n",
    "We won't be using label encoding in this situation since label encoding might cause our machine learning model to have a bias or a sort of ranking which we are trying to avoid by using One Hot Encoding.\n",
    "\n",
    "We perform one hot encoding and then calculate the mean of the grouped venue categories for each of the neighbourhoods.\n",
    "\n",
    "* One hot encoding\n",
    "London_venue_cat = pd.get_dummies(venues_in_London[['Venue Category']], prefix=\"\", prefix_sep=\"\")\n",
    "\n",
    "* Adding neighbourhood to the mix\n",
    "London_venue_cat['Neighbourhood'] = venues_in_London['Neighbourhood'] \n",
    "\n",
    "*moving neighborhood column to the first column\n",
    "fixed_columns = [London_venue_cat.columns[-1]] + list(London_venue_cat.columns[:-1])\n",
    "London_venue_cat = London_venue_cat[fixed_columns]\n",
    "\n",
    "*Grouping and calculating the mean\n",
    "London_grouped = London_venue_cat.groupby('Neighbourhood').mean().reset_index()"
   ]
  },
  {
   "cell_type": "markdown",
   "metadata": {},
   "source": [
    "### 4.7 Top Venues in the Neighbourhoods"
   ]
  },
  {
   "cell_type": "markdown",
   "metadata": {},
   "source": [
    "In our next step, We need to rank and label the top venue categories in our neighborhood.\n",
    "\n",
    "Let's define a function to get the top venue categories in the neighbourhood\n",
    "\n",
    "def return_most_common_venues(row, num_top_venues):\n",
    "    row_categories = row.iloc[1:]\n",
    "    row_categories_sorted = row_categories.sort_values(ascending=False)\n",
    "\n",
    "    return row_categories_sorted.index.values[0:num_top_venues]\n",
    "There are many categories, we will consider top 10 categories to avoid data skew.\n",
    "\n",
    "Defining a function to label them accurately\n",
    "\n",
    "num_top_venues = 10\n",
    "\n",
    "indicators = ['st', 'nd', 'rd']\n",
    "\n",
    "* create columns according to number of top venues\n",
    "columns = ['Neighbourhood']\n",
    "for ind in np.arange(num_top_venues):\n",
    "    try:\n",
    "        columns.append('{}{} Most Common Venue'.format(ind+1, indicators[ind]))\n",
    "    except:\n",
    "        columns.append('{}th Most Common Venue'.format(ind+1))\n",
    "Getting the top venue categories in the neighbourhoods of London\n",
    "\n",
    "* create a new dataframe for London\n",
    "neighborhoods_venues_sorted_london = pd.DataFrame(columns=columns)\n",
    "neighborhoods_venues_sorted_london['Neighbourhood'] = London_grouped['Neighbourhood']\n",
    "\n",
    "for ind in np.arange(London_grouped.shape[0]):\n",
    "    neighborhoods_venues_sorted_london.iloc[ind, 1:] = return_most_common_venues(London_grouped.iloc[ind, :], num_top_venues)\n",
    "\n",
    "neighborhoods_venues_sorted_london.head()\n"
   ]
  },
  {
   "cell_type": "markdown",
   "metadata": {},
   "source": [
    "### 4.8 Model Building - KMeans"
   ]
  },
  {
   "cell_type": "markdown",
   "metadata": {},
   "source": [
    "Moving on to the most exicitng part - Model Building! We will be using KMeans Clustering Machine learning algorithm to cluster similar neighbourhoods together. We will be going with the number of clusters as 5.\n",
    "\n",
    " set number of clusters\n",
    "k_num_clusters = 5\n",
    "\n",
    "London_grouped_clustering = London_grouped.drop('Neighbourhood', 1)\n",
    "\n",
    " run k-means clustering\n",
    "kmeans_london = KMeans(n_clusters=k_num_clusters, random_state=0).fit(London_grouped_clustering)\n",
    "Our model has labelled each of the neighbourhoods, we add the label into our dataset.\n",
    "\n",
    "neighborhoods_venues_sorted_london.insert(0, 'Cluster Labels', kmeans_london.labels_ +1)\n",
    "We then join London_merged with our neighbourhood venues sorted to add latitude & longitude for each of the neighborhood to prepare it for visualization.\n",
    "\n",
    "london_data = london_merged\n",
    "\n",
    "london_data = london_data.join(neighborhoods_venues_sorted_london.set_index('Neighbourhood'), on='borough')\n",
    "\n",
    "london_data.head()"
   ]
  },
  {
   "cell_type": "markdown",
   "metadata": {},
   "source": [
    "### 4.9 Visualizing the clustered Neighbourhoods"
   ]
  },
  {
   "cell_type": "markdown",
   "metadata": {},
   "source": [
    "Our data is processed, missing data is collected and compiled. The Model is built. All that's remaining is to see the clustered neighbourhoods on the map. Again, we use Folium package to do so.\n",
    "\n",
    "We drop all the NaN values to prevent data skew\n",
    "\n",
    "london_data_nonan = london_data.dropna(subset=['Cluster Labels'])"
   ]
  },
  {
   "cell_type": "markdown",
   "metadata": {},
   "source": [
    "### 4.9.1 Examining our Clusters"
   ]
  },
  {
   "cell_type": "markdown",
   "metadata": {},
   "source": [
    "We could examine our clusters by expanding on our code using the Cluster Labels column:\n",
    "\n",
    "Cluster 1\n",
    "\n",
    "london_data_nonan.loc[london_data_nonan['Cluster Labels'] == 1, london_data_nonan.columns[[1] + list(range(5, london_data_nonan.shape[1]))]]\n",
    "Cluster 2\n",
    "\n",
    "london_data_nonan.loc[london_data_nonan['Cluster Labels'] == 2, london_data_nonan.columns[[1] + list(range(5, london_data_nonan.shape[1]))]]\n",
    "Cluster 3\n",
    "\n",
    "london_data_nonan.loc[london_data_nonan['Cluster Labels'] == 3, london_data_nonan.columns[[1] + list(range(5, london_data_nonan.shape[1]))]]\n",
    "Cluster 4\n",
    "\n",
    "london_data_nonan.loc[london_data_nonan['Cluster Labels'] == 4, london_data_nonan.columns[[1] + list(range(5, london_data_nonan.shape[1]))]]\n",
    "Cluster 5\n",
    "\n",
    "london_data_nonan.loc[london_data_nonan['Cluster Labels'] == 5, london_data_nonan.columns[[1] + list(range(5, london_data_nonan.shape[1]))]]"
   ]
  },
  {
   "cell_type": "markdown",
   "metadata": {},
   "source": [
    "## 5. Results and Discussion"
   ]
  },
  {
   "cell_type": "markdown",
   "metadata": {},
   "source": [
    "The neighbourhoods of London are very mulitcultural. There are a lot of different cusines including Indian, Italian, Turkish and Chinese. London seems to take a step further in this direction by having a lot of Restaurants, bars, juice bars, coffee shops, Fish and Chips shop and Breakfast spots. It has a lot of shopping options too with that of the Flea markets, flower shops, fish markets, Fishing stores, clothing stores. The main modes of transport seem to be Buses and trains. For leisure, the neighbourhoods are set up to have lots of parks, golf courses, zoo, gyms and Historic sites. Overall, the city of London offers a multicultural, diverse and certainly an entertaining experience.\n",
    "\n",
    "Paris is relatively small in size geographically. It has a wide variety of cusines and eateries including French, Thai, Cambodian, Asian, Chinese etc. There are a lot of hangout spots including many Restaurants and Bars. Paris has a lot of Bistro's. Different means of public transport in Paris which includes buses, bikes, boats or ferries. For leisure and sight seeing, there are a lot of Plazas, Trails, Parks, Historic sites, clothing shops, Art galleries and Museums. Overall, Paris seems like the relaxing vacation spot with a mix of lakes, historic spots and a wide variety of cusines to try out."
   ]
  },
  {
   "cell_type": "markdown",
   "metadata": {},
   "source": [
    "## 6. Conclusion"
   ]
  },
  {
   "cell_type": "markdown",
   "metadata": {},
   "source": [
    "The purpose of this project was to explore the cities of London and Paris and see how attractive it is to potential tourists and migrants. We explored both the cities based on their postal codes and then extrapolated the common venues present in each of the neighbourhoods finally concluding with clustering similar neighbourhoods together.\n",
    "\n",
    "We could see that each of the neighbourhoods in both the cities have a wide variety of experiences to offer which is unique in it's own way. The cultural diversity is quite evident which also gives the feeling of a sense of inclusion.\n",
    "\n",
    "Both Paris and London seem to offer a vacation stay or a romantic getaway with a lot of places to explore, beautiful landscapes, amazing food and a wide variety of culture. Overall, it's upto the stakeholders to decide which experience they would prefer more and which would more to their liking.\n",
    "\n",
    "The detailed code is available on GitHub"
   ]
  },
  {
   "cell_type": "markdown",
   "metadata": {},
   "source": [
    "## 7. References"
   ]
  },
  {
   "cell_type": "markdown",
   "metadata": {},
   "source": [
    "  1,The Battle of neighborhoods! What is the best place where can I start my restaurant business in Paris? by Zakaria BOUZIANE\n",
    "\n",
    "  2,Foursquare API\n",
    "\n",
    "  3,ArcGIS API"
   ]
  }
 ],
 "metadata": {
  "kernelspec": {
   "display_name": "Python 3.7",
   "language": "python",
   "name": "python3"
  },
  "language_info": {
   "codemirror_mode": {
    "name": "ipython",
    "version": 3
   },
   "file_extension": ".py",
   "mimetype": "text/x-python",
   "name": "python",
   "nbconvert_exporter": "python",
   "pygments_lexer": "ipython3",
   "version": "3.7.10"
  }
 },
 "nbformat": 4,
 "nbformat_minor": 1
}
